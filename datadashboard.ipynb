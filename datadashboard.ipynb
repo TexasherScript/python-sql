{
  "nbformat": 4,
  "nbformat_minor": 0,
  "metadata": {
    "colab": {
      "provenance": [],
      "authorship_tag": "ABX9TyM/22WlauOzBoC5YhzYY8xB",
      "include_colab_link": true
    },
    "kernelspec": {
      "name": "python3",
      "display_name": "Python 3"
    },
    "language_info": {
      "name": "python"
    }
  },
  "cells": [
    {
      "cell_type": "markdown",
      "metadata": {
        "id": "view-in-github",
        "colab_type": "text"
      },
      "source": [
        "<a href=\"https://colab.research.google.com/github/TexasherScript/python-sql/blob/main/datadashboard.ipynb\" target=\"_parent\"><img src=\"https://colab.research.google.com/assets/colab-badge.svg\" alt=\"Open In Colab\"/></a>"
      ]
    },
    {
      "cell_type": "code",
      "execution_count": 1,
      "metadata": {
        "colab": {
          "base_uri": "https://localhost:8080/"
        },
        "id": "60jmzl9nO544",
        "outputId": "301561fd-1761-49e7-b69e-4bfe044e73e6"
      },
      "outputs": [
        {
          "output_type": "stream",
          "name": "stdout",
          "text": [
            "Requirement already satisfied: shiny in /usr/local/lib/python3.10/dist-packages (1.2.0)\n",
            "Requirement already satisfied: plotly in /usr/local/lib/python3.10/dist-packages (5.24.1)\n",
            "Requirement already satisfied: pandas in /usr/local/lib/python3.10/dist-packages (2.2.2)\n",
            "Requirement already satisfied: typing-extensions>=4.10.0 in /usr/local/lib/python3.10/dist-packages (from shiny) (4.12.2)\n",
            "Requirement already satisfied: starlette in /usr/local/lib/python3.10/dist-packages (from shiny) (0.41.2)\n",
            "Requirement already satisfied: websockets>=10.0 in /usr/local/lib/python3.10/dist-packages (from shiny) (13.1)\n",
            "Requirement already satisfied: python-multipart in /usr/local/lib/python3.10/dist-packages (from shiny) (0.0.17)\n",
            "Requirement already satisfied: htmltools>=0.6.0 in /usr/local/lib/python3.10/dist-packages (from shiny) (0.6.0)\n",
            "Requirement already satisfied: markdown-it-py>=1.1.0 in /usr/local/lib/python3.10/dist-packages (from shiny) (3.0.0)\n",
            "Requirement already satisfied: mdit-py-plugins>=0.3.0 in /usr/local/lib/python3.10/dist-packages (from shiny) (0.4.2)\n",
            "Requirement already satisfied: linkify-it-py>=1.0 in /usr/local/lib/python3.10/dist-packages (from shiny) (2.0.3)\n",
            "Requirement already satisfied: appdirs>=1.4.4 in /usr/local/lib/python3.10/dist-packages (from shiny) (1.4.4)\n",
            "Requirement already satisfied: asgiref>=3.5.2 in /usr/local/lib/python3.10/dist-packages (from shiny) (3.8.1)\n",
            "Requirement already satisfied: packaging>=20.9 in /usr/local/lib/python3.10/dist-packages (from shiny) (24.1)\n",
            "Requirement already satisfied: narwhals>=1.10.0 in /usr/local/lib/python3.10/dist-packages (from shiny) (1.13.2)\n",
            "Requirement already satisfied: orjson>=3.10.7 in /usr/local/lib/python3.10/dist-packages (from shiny) (3.10.10)\n",
            "Requirement already satisfied: uvicorn>=0.16.0 in /usr/local/lib/python3.10/dist-packages (from shiny) (0.32.0)\n",
            "Requirement already satisfied: click>=8.1.4 in /usr/local/lib/python3.10/dist-packages (from shiny) (8.1.7)\n",
            "Requirement already satisfied: watchfiles>=0.18.0 in /usr/local/lib/python3.10/dist-packages (from shiny) (0.24.0)\n",
            "Requirement already satisfied: questionary>=2.0.0 in /usr/local/lib/python3.10/dist-packages (from shiny) (2.0.1)\n",
            "Requirement already satisfied: prompt-toolkit in /usr/local/lib/python3.10/dist-packages (from shiny) (3.0.36)\n",
            "Requirement already satisfied: tenacity>=6.2.0 in /usr/local/lib/python3.10/dist-packages (from plotly) (9.0.0)\n",
            "Requirement already satisfied: numpy>=1.22.4 in /usr/local/lib/python3.10/dist-packages (from pandas) (1.26.4)\n",
            "Requirement already satisfied: python-dateutil>=2.8.2 in /usr/local/lib/python3.10/dist-packages (from pandas) (2.8.2)\n",
            "Requirement already satisfied: pytz>=2020.1 in /usr/local/lib/python3.10/dist-packages (from pandas) (2024.2)\n",
            "Requirement already satisfied: tzdata>=2022.7 in /usr/local/lib/python3.10/dist-packages (from pandas) (2024.2)\n",
            "Requirement already satisfied: uc-micro-py in /usr/local/lib/python3.10/dist-packages (from linkify-it-py>=1.0->shiny) (1.0.3)\n",
            "Requirement already satisfied: mdurl~=0.1 in /usr/local/lib/python3.10/dist-packages (from markdown-it-py>=1.1.0->shiny) (0.1.2)\n",
            "Requirement already satisfied: six>=1.5 in /usr/local/lib/python3.10/dist-packages (from python-dateutil>=2.8.2->pandas) (1.16.0)\n",
            "Requirement already satisfied: wcwidth in /usr/local/lib/python3.10/dist-packages (from prompt-toolkit->shiny) (0.2.13)\n",
            "Requirement already satisfied: h11>=0.8 in /usr/local/lib/python3.10/dist-packages (from uvicorn>=0.16.0->shiny) (0.14.0)\n",
            "Requirement already satisfied: anyio>=3.0.0 in /usr/local/lib/python3.10/dist-packages (from watchfiles>=0.18.0->shiny) (3.7.1)\n",
            "Requirement already satisfied: idna>=2.8 in /usr/local/lib/python3.10/dist-packages (from anyio>=3.0.0->watchfiles>=0.18.0->shiny) (3.10)\n",
            "Requirement already satisfied: sniffio>=1.1 in /usr/local/lib/python3.10/dist-packages (from anyio>=3.0.0->watchfiles>=0.18.0->shiny) (1.3.1)\n",
            "Requirement already satisfied: exceptiongroup in /usr/local/lib/python3.10/dist-packages (from anyio>=3.0.0->watchfiles>=0.18.0->shiny) (1.2.2)\n"
          ]
        }
      ],
      "source": [
        "pip install shiny plotly pandas"
      ]
    },
    {
      "cell_type": "code",
      "source": [
        "from shiny import App, render, ui, reactive\n",
        "import pandas as pd\n",
        "import plotly.express as px\n",
        "\n",
        "# Load and clean the dataset\n",
        "def load_and_clean_data(filepath):\n",
        "    df = pd.read_csv(filepath)\n",
        "\n",
        "    # Convert FinancialYear to a start year\n",
        "    df['FinancialYear_Start'] = df['FinancialYear'].str[:4].astype(int)\n",
        "\n",
        "    # Convert numeric columns to integers (if they are stored as strings)\n",
        "    numeric_columns = ['NumberOfAdmissions', 'NumberOfDischarges', 'NumberOfStays',\n",
        "                       'NumberOfPatients', 'NumberOfHospitalResidents']\n",
        "    for col in numeric_columns:\n",
        "        df[col] = pd.to_numeric(df[col], errors='coerce')  # Convert non-numeric to NaN\n",
        "\n",
        "    # Drop rows with missing values in essential columns\n",
        "    df = df.dropna(subset=numeric_columns)\n",
        "\n",
        "    return df\n",
        "\n",
        "# Load the cleaned data\n",
        "data_filepath = \"ba979207-fbd0-4f96-b855-ac7540e03b23.csv\"  # Path to your CSV file\n",
        "df = load_and_clean_data(data_filepath)\n",
        "\n",
        "# Define UI\n",
        "app_ui = ui.page_fluid(\n",
        "    ui.h2(\"Hospital Data Dashboard\"),\n",
        "\n",
        "    # Dropdown for selecting Financial Year\n",
        "    ui.input_select(\"year\", \"Select Financial Year:\", choices=df['FinancialYear_Start'].unique(), selected=df['FinancialYear_Start'].min()),\n",
        "\n",
        "    # Table to display data\n",
        "    ui.output_table(\"data_table\"),\n",
        "\n",
        "    # Plot outputs\n",
        "    ui.output_plot(\"admissions_plot\"),\n",
        "    ui.output_plot(\"stays_plot\")\n",
        ")\n",
        "\n",
        "# Define server logic\n",
        "def server(input, output, session):\n",
        "\n",
        "    # Filter data based on selected year\n",
        "    @reactive.Calc\n",
        "    def filtered_data():\n",
        "        return df[df['FinancialYear_Start'] == input.year()]\n",
        "\n",
        "    # Display data table\n",
        "    @output\n",
        "    @render.table\n",
        "    def data_table():\n",
        "        return filtered_data()\n",
        "\n",
        "    # Plot Admissions by Dataset\n",
        "    @output\n",
        "    @render.plot\n",
        "    def admissions_plot():\n",
        "        fig = px.bar(filtered_data(), x=\"Dataset\", y=\"NumberOfAdmissions\", color=\"Dataset\",\n",
        "                     title=\"Number of Admissions by Dataset\",\n",
        "                     labels={\"NumberOfAdmissions\": \"Admissions\"})\n",
        "        fig.update_layout(showlegend=False)\n",
        "        return fig\n",
        "\n",
        "    # Plot Number of Stays vs. Number of Patients\n",
        "    @output\n",
        "    @render.plot\n",
        "    def stays_plot():\n",
        "        fig = px.scatter(filtered_data(), x=\"NumberOfStays\", y=\"NumberOfPatients\",\n",
        "                         title=\"Number of Stays vs. Number of Patients\",\n",
        "                         labels={\"NumberOfStays\": \"Stays\", \"NumberOfPatients\": \"Patients\"})\n",
        "        return fig\n",
        "\n",
        "# Create the app\n",
        "app = App(app_ui, server)\n",
        "\n",
        "# Run the app within the Jupyter Notebook\n",
        "from shinywidgets import render_widget, ShinyWidget\n",
        "\n",
        "render_widget(app)\n"
      ],
      "metadata": {
        "colab": {
          "base_uri": "https://localhost:8080/",
          "height": 371
        },
        "id": "G_41nWUTPHsA",
        "outputId": "8b891afd-cb66-4a43-9206-72fcfb769d24"
      },
      "execution_count": 3,
      "outputs": [
        {
          "output_type": "error",
          "ename": "AttributeError",
          "evalue": "'numpy.ndarray' object has no attribute 'items'",
          "traceback": [
            "\u001b[0;31m---------------------------------------------------------------------------\u001b[0m",
            "\u001b[0;31mAttributeError\u001b[0m                            Traceback (most recent call last)",
            "\u001b[0;32m<ipython-input-3-cc3ccfc6116b>\u001b[0m in \u001b[0;36m<cell line: 28>\u001b[0;34m()\u001b[0m\n\u001b[1;32m     30\u001b[0m \u001b[0;34m\u001b[0m\u001b[0m\n\u001b[1;32m     31\u001b[0m     \u001b[0;31m# Dropdown for selecting Financial Year\u001b[0m\u001b[0;34m\u001b[0m\u001b[0;34m\u001b[0m\u001b[0m\n\u001b[0;32m---> 32\u001b[0;31m     \u001b[0mui\u001b[0m\u001b[0;34m.\u001b[0m\u001b[0minput_select\u001b[0m\u001b[0;34m(\u001b[0m\u001b[0;34m\"year\"\u001b[0m\u001b[0;34m,\u001b[0m \u001b[0;34m\"Select Financial Year:\"\u001b[0m\u001b[0;34m,\u001b[0m \u001b[0mchoices\u001b[0m\u001b[0;34m=\u001b[0m\u001b[0mdf\u001b[0m\u001b[0;34m[\u001b[0m\u001b[0;34m'FinancialYear_Start'\u001b[0m\u001b[0;34m]\u001b[0m\u001b[0;34m.\u001b[0m\u001b[0munique\u001b[0m\u001b[0;34m(\u001b[0m\u001b[0;34m)\u001b[0m\u001b[0;34m,\u001b[0m \u001b[0mselected\u001b[0m\u001b[0;34m=\u001b[0m\u001b[0mdf\u001b[0m\u001b[0;34m[\u001b[0m\u001b[0;34m'FinancialYear_Start'\u001b[0m\u001b[0;34m]\u001b[0m\u001b[0;34m.\u001b[0m\u001b[0mmin\u001b[0m\u001b[0;34m(\u001b[0m\u001b[0;34m)\u001b[0m\u001b[0;34m)\u001b[0m\u001b[0;34m,\u001b[0m\u001b[0;34m\u001b[0m\u001b[0;34m\u001b[0m\u001b[0m\n\u001b[0m\u001b[1;32m     33\u001b[0m \u001b[0;34m\u001b[0m\u001b[0m\n\u001b[1;32m     34\u001b[0m     \u001b[0;31m# Table to display data\u001b[0m\u001b[0;34m\u001b[0m\u001b[0;34m\u001b[0m\u001b[0m\n",
            "\u001b[0;32m/usr/local/lib/python3.10/dist-packages/shiny/ui/_input_select.py\u001b[0m in \u001b[0;36minput_select\u001b[0;34m(id, label, choices, selected, multiple, selectize, width, size, remove_button, options)\u001b[0m\n\u001b[1;32m    206\u001b[0m     \u001b[0mopts\u001b[0m \u001b[0;34m=\u001b[0m \u001b[0m_update_options\u001b[0m\u001b[0;34m(\u001b[0m\u001b[0moptions\u001b[0m\u001b[0;34m,\u001b[0m \u001b[0mremove_button\u001b[0m\u001b[0;34m,\u001b[0m \u001b[0mmultiple\u001b[0m\u001b[0;34m)\u001b[0m\u001b[0;34m\u001b[0m\u001b[0;34m\u001b[0m\u001b[0m\n\u001b[1;32m    207\u001b[0m \u001b[0;34m\u001b[0m\u001b[0m\n\u001b[0;32m--> 208\u001b[0;31m     \u001b[0mchoices_tags\u001b[0m \u001b[0;34m=\u001b[0m \u001b[0m_render_choices\u001b[0m\u001b[0;34m(\u001b[0m\u001b[0mchoices_\u001b[0m\u001b[0;34m,\u001b[0m \u001b[0mselected\u001b[0m\u001b[0;34m)\u001b[0m\u001b[0;34m\u001b[0m\u001b[0;34m\u001b[0m\u001b[0m\n\u001b[0m\u001b[1;32m    209\u001b[0m \u001b[0;34m\u001b[0m\u001b[0m\n\u001b[1;32m    210\u001b[0m     \u001b[0mresolved_id\u001b[0m \u001b[0;34m=\u001b[0m \u001b[0mresolve_id\u001b[0m\u001b[0;34m(\u001b[0m\u001b[0mid\u001b[0m\u001b[0;34m)\u001b[0m\u001b[0;34m\u001b[0m\u001b[0;34m\u001b[0m\u001b[0m\n",
            "\u001b[0;32m/usr/local/lib/python3.10/dist-packages/shiny/ui/_input_select.py\u001b[0m in \u001b[0;36m_render_choices\u001b[0;34m(x, selected)\u001b[0m\n\u001b[1;32m    288\u001b[0m         \u001b[0;32mreturn\u001b[0m \u001b[0mresult\u001b[0m\u001b[0;34m\u001b[0m\u001b[0;34m\u001b[0m\u001b[0m\n\u001b[1;32m    289\u001b[0m \u001b[0;34m\u001b[0m\u001b[0m\n\u001b[0;32m--> 290\u001b[0;31m     \u001b[0;32mfor\u001b[0m \u001b[0mk\u001b[0m\u001b[0;34m,\u001b[0m \u001b[0mv\u001b[0m \u001b[0;32min\u001b[0m \u001b[0mx\u001b[0m\u001b[0;34m.\u001b[0m\u001b[0mitems\u001b[0m\u001b[0;34m(\u001b[0m\u001b[0;34m)\u001b[0m\u001b[0;34m:\u001b[0m\u001b[0;34m\u001b[0m\u001b[0;34m\u001b[0m\u001b[0m\n\u001b[0m\u001b[1;32m    291\u001b[0m         \u001b[0;32mif\u001b[0m \u001b[0misinstance\u001b[0m\u001b[0;34m(\u001b[0m\u001b[0mv\u001b[0m\u001b[0;34m,\u001b[0m \u001b[0mMapping\u001b[0m\u001b[0;34m)\u001b[0m\u001b[0;34m:\u001b[0m\u001b[0;34m\u001b[0m\u001b[0;34m\u001b[0m\u001b[0m\n\u001b[1;32m    292\u001b[0m             result.append(\n",
            "\u001b[0;31mAttributeError\u001b[0m: 'numpy.ndarray' object has no attribute 'items'"
          ]
        }
      ]
    },
    {
      "cell_type": "code",
      "source": [
        "# Create the app\n",
        "app = App(app_ui, server)\n",
        "\n",
        "# Run the app within the Jupyter Notebook\n",
        "from shinywidgets import render_widget, ShinyWidget\n",
        "\n",
        "render_widget(app)"
      ],
      "metadata": {
        "colab": {
          "base_uri": "https://localhost:8080/",
          "height": 219
        },
        "id": "3J1BEQ6nPoZS",
        "outputId": "88488519-be47-4d72-c5d3-b5584a6b496c"
      },
      "execution_count": 4,
      "outputs": [
        {
          "output_type": "error",
          "ename": "NameError",
          "evalue": "name 'app_ui' is not defined",
          "traceback": [
            "\u001b[0;31m---------------------------------------------------------------------------\u001b[0m",
            "\u001b[0;31mNameError\u001b[0m                                 Traceback (most recent call last)",
            "\u001b[0;32m<ipython-input-4-42cf9929aded>\u001b[0m in \u001b[0;36m<cell line: 2>\u001b[0;34m()\u001b[0m\n\u001b[1;32m      1\u001b[0m \u001b[0;31m# Create the app\u001b[0m\u001b[0;34m\u001b[0m\u001b[0;34m\u001b[0m\u001b[0m\n\u001b[0;32m----> 2\u001b[0;31m \u001b[0mapp\u001b[0m \u001b[0;34m=\u001b[0m \u001b[0mApp\u001b[0m\u001b[0;34m(\u001b[0m\u001b[0mapp_ui\u001b[0m\u001b[0;34m,\u001b[0m \u001b[0mserver\u001b[0m\u001b[0;34m)\u001b[0m\u001b[0;34m\u001b[0m\u001b[0;34m\u001b[0m\u001b[0m\n\u001b[0m\u001b[1;32m      3\u001b[0m \u001b[0;34m\u001b[0m\u001b[0m\n\u001b[1;32m      4\u001b[0m \u001b[0;31m# Run the app within the Jupyter Notebook\u001b[0m\u001b[0;34m\u001b[0m\u001b[0;34m\u001b[0m\u001b[0m\n\u001b[1;32m      5\u001b[0m \u001b[0;32mfrom\u001b[0m \u001b[0mshinywidgets\u001b[0m \u001b[0;32mimport\u001b[0m \u001b[0mrender_widget\u001b[0m\u001b[0;34m,\u001b[0m \u001b[0mShinyWidget\u001b[0m\u001b[0;34m\u001b[0m\u001b[0;34m\u001b[0m\u001b[0m\n",
            "\u001b[0;31mNameError\u001b[0m: name 'app_ui' is not defined"
          ]
        }
      ]
    }
  ]
}