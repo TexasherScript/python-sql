{
 "cells": [
  {
   "cell_type": "markdown",
   "metadata": {},
   "source": [
    "# Assignment 1: Data Cleaning "
   ]
  },
  {
   "cell_type": "markdown",
   "metadata": {},
   "source": [
    "# Introduction\n",
    "# In this notebook, you'll download a dataset from Kaggle using the Kaggle API, load it into a Pandas DataFrame, and apply common data cleaning techniques. \n",
    "# Follow the steps and modify them to suit your dataset."
   ]
  },
  {
   "cell_type": "markdown",
   "metadata": {},
   "source": [
    "## Step 1: Kaggle API Setup\n",
    "# To begin, you need to set up the Kaggle API to download datasets.\n",
    "\n",
    "# 1.1 Install the Kaggle API\n",
    "# If you haven't installed the Kaggle API yet, you can do so using the command below on git bash:\n"
   ]
  },
  {
   "cell_type": "code",
   "execution_count": 6,
   "metadata": {},
   "outputs": [],
   "source": [
    " # !pip install kaggle"
   ]
  },
  {
   "cell_type": "markdown",
   "metadata": {},
   "source": [
    "\n",
    "# 1.2 Authenticate the Kaggle API\n",
    "# To use the Kaggle API, you'll need to authenticate. Follow these steps:\n",
    "\n",
    "# - Go to https://www.kaggle.com/account, and under **API**, click \"Create New API Token.\"\n",
    "# - This will download a `kaggle.json` file containing your credentials.\n",
    "# - Upload the `kaggle.json` file to your system put them in a location you can easily access.\n",
    "# - Example for where my kaggle json file is located "
   ]
  },
  {
   "cell_type": "code",
   "execution_count": 7,
   "metadata": {},
   "outputs": [
    {
     "name": "stdout",
     "output_type": "stream",
     "text": [
      "Please upload your 'kaggle.json' file first.\n",
      "Make sure the correct dataset is downloaded and the file path is correct.\n"
     ]
    },
    {
     "name": "stderr",
     "output_type": "stream",
     "text": [
      "'kaggle' is not recognized as an internal or external command,\n",
      "operable program or batch file.\n"
     ]
    },
    {
     "ename": "NameError",
     "evalue": "name 'df' is not defined",
     "output_type": "error",
     "traceback": [
      "\u001b[1;31m---------------------------------------------------------------------------\u001b[0m",
      "\u001b[1;31mNameError\u001b[0m                                 Traceback (most recent call last)",
      "Cell \u001b[1;32mIn[7], line 47\u001b[0m\n\u001b[0;32m     44\u001b[0m     \u001b[38;5;28mprint\u001b[39m(\u001b[38;5;124m\"\u001b[39m\u001b[38;5;124mMake sure the correct dataset is downloaded and the file path is correct.\u001b[39m\u001b[38;5;124m\"\u001b[39m)\n\u001b[0;32m     46\u001b[0m \u001b[38;5;66;03m# Display the first few rows of the dataset\u001b[39;00m\n\u001b[1;32m---> 47\u001b[0m \u001b[43mdf\u001b[49m\u001b[38;5;241m.\u001b[39mhead()\n",
      "\u001b[1;31mNameError\u001b[0m: name 'df' is not defined"
     ]
    }
   ],
   "source": [
    "# Once the file is uploaded, run the following code to move it to the correct directory:\n",
    "import os\n",
    "import json\n",
    "\n",
    "# Change the path below if your file is stored in another location.\n",
    "kaggle_json_path = 'kaggle.json'\n",
    "\n",
    "if os.path.exists(kaggle_json_path):\n",
    "    with open(kaggle_json_path, 'r') as f:\n",
    "        kaggle_api = json.load(f)\n",
    "    os.makedirs(os.path.expanduser('~/.kaggle'), exist_ok=True)\n",
    "    with open(os.path.expanduser('~/.kaggle/kaggle.json'), 'w') as f:\n",
    "        json.dump(kaggle_api, f)\n",
    "    os.chmod(os.path.expanduser('~/.kaggle/kaggle.json'), 0o600)\n",
    "    print(\"Kaggle API credentials successfully set up!\")\n",
    "else:\n",
    "    print(\"Please upload your 'kaggle.json' file first.\")\n",
    "\n",
    "# ### 1.3 Downloading the Dataset\n",
    "# Now that you're authenticated, you can download your dataset from Kaggle. Replace `your-dataset` below with the dataset's name.\n",
    "\n",
    "# Example Kaggle dataset: 'zillow/zecon' (Real Estate Dataset)\n",
    "# You can search for datasets at https://www.kaggle.com/datasets\n",
    "\n",
    "dataset = 'your-dataset-here'  # Update this with your chosen dataset from Kaggle\n",
    "output_dir = './data'  # Directory to store your downloaded dataset\n",
    "\n",
    "# Download the dataset using Kaggle API\n",
    "!kaggle datasets download -d {dataset} -p {output_dir} --unzip\n",
    "\n",
    "# ## Step 2: Loading and Exploring the Dataset\n",
    "# Now that the dataset is downloaded, let's load it into a Pandas DataFrame.\n",
    "\n",
    "import pandas as pd\n",
    "import os\n",
    "\n",
    "# Replace 'your_dataset_file.csv' with the actual CSV file in your downloaded dataset\n",
    "file_path = os.path.join(output_dir, 'your_dataset_file.csv')\n",
    "\n",
    "if os.path.exists(file_path):\n",
    "    df = pd.read_csv(file_path)\n",
    "    print(\"Dataset loaded successfully!\")\n",
    "else:\n",
    "    print(\"Make sure the correct dataset is downloaded and the file path is correct.\")\n",
    "\n",
    "# Display the first few rows of the dataset\n",
    "df.head()\n"
   ]
  },
  {
   "cell_type": "markdown",
   "metadata": {},
   "source": [
    "\n",
    "# ### 1.3 Downloading the Dataset\n",
    "# Now that you're authenticated, you can download your dataset from Kaggle. Replace `your-dataset` below with the dataset's name.\n",
    "\n",
    "# Example Kaggle dataset: 'zillow/zecon' (Real Estate Dataset)\n",
    "# You can search for datasets at https://www.kaggle.com/datasets\n",
    "\n",
    "dataset = 'your-dataset-here'  # Update this with your chosen dataset from Kaggle\n",
    "output_dir = './data'  # Directory to store your downloaded dataset\n"
   ]
  },
  {
   "cell_type": "markdown",
   "metadata": {},
   "source": [
    "# Download the dataset using Kaggle API (in gitbash run this command to open the download)\n",
    "\n"
   ]
  },
  {
   "cell_type": "code",
   "execution_count": null,
   "metadata": {},
   "outputs": [],
   "source": []
  },
  {
   "cell_type": "code",
   "execution_count": null,
   "metadata": {},
   "outputs": [],
   "source": [
    "\n"
   ]
  }
 ],
 "metadata": {
  "kernelspec": {
   "display_name": "Python 3",
   "language": "python",
   "name": "python3"
  },
  "language_info": {
   "codemirror_mode": {
    "name": "ipython",
    "version": 3
   },
   "file_extension": ".py",
   "mimetype": "text/x-python",
   "name": "python",
   "nbconvert_exporter": "python",
   "pygments_lexer": "ipython3",
   "version": "3.11.9"
  }
 },
 "nbformat": 4,
 "nbformat_minor": 2
}
